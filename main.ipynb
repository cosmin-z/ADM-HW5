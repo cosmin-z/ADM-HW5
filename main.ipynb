{
 "cells": [
  {
   "cell_type": "markdown",
   "metadata": {},
   "source": [
    "# Imports"
   ]
  },
  {
   "cell_type": "code",
   "execution_count": 2,
   "metadata": {},
   "outputs": [],
   "source": [
    "import pandas as pd\n",
    "import matplotlib.pyplot as plt\n",
    "from tqdm import tqdm\n",
    "import networkx as nx\n",
    "import datetime, time"
   ]
  },
  {
   "cell_type": "markdown",
   "metadata": {},
   "source": [
    "# Exercise 1"
   ]
  },
  {
   "cell_type": "markdown",
   "metadata": {},
   "source": [
    "#### explore data and find the max and min timestamps"
   ]
  },
  {
   "cell_type": "code",
   "execution_count": 3,
   "metadata": {},
   "outputs": [],
   "source": [
    "#create 3 dataframe\n",
    "a2q=pd.read_csv('data/sx-stackoverflow-a2q.txt',sep=' ', names=['u','v','t'])  #answers to questions\n",
    "c2a=pd.read_csv('data/sx-stackoverflow-c2a.txt',sep=' ', names=['u','v','t'])  #comments to answers\n",
    "c2q=pd.read_csv('data/sx-stackoverflow-c2q.txt',sep=' ', names=['u','v','t'])  #comments to questions"
   ]
  },
  {
   "cell_type": "code",
   "execution_count": 4,
   "metadata": {},
   "outputs": [],
   "source": [
    "def findTimeMaxMin(data,max,min): #Retrieve maximum and minimum timestamps\n",
    "    m = data['t'].min()\n",
    "    M = data['t'].max()\n",
    "    if m < min:\n",
    "        min = m \n",
    "    if M > max:\n",
    "        max = M\n",
    "    return max, min"
   ]
  },
  {
   "cell_type": "code",
   "execution_count": 5,
   "metadata": {},
   "outputs": [
    {
     "name": "stdout",
     "output_type": "stream",
     "text": [
      "\n",
      "Maximum timestamp is: 2011-06-09\n",
      "\n",
      "Minimum timestamp is: 2008-08-01\n"
     ]
    }
   ],
   "source": [
    "#Search maximum and minimum timestamps on top of 3 dataset files\n",
    "max=0\n",
    "min=1638921630 #2021/12/08\n",
    "max,min=findTimeMaxMin(a2q,max,min)\n",
    "max,min=findTimeMaxMin(c2a,max,min)\n",
    "max,min=findTimeMaxMin(c2q,max,min)\n",
    "\n",
    "\n",
    "print(\"\\nMaximum timestamp is:\",datetime.datetime.fromtimestamp(max).strftime(\"%Y-%m-%d\"),sep=\" \")\n",
    "print(\"\\nMinimum timestamp is:\",datetime.datetime.fromtimestamp(min).strftime(\"%Y-%m-%d\"),sep=\" \")"
   ]
  },
  {
   "cell_type": "markdown",
   "metadata": {},
   "source": [
    "##### I choose to *study* data from 2008/08/01 to 2009/08/01"
   ]
  },
  {
   "cell_type": "code",
   "execution_count": 6,
   "metadata": {},
   "outputs": [
    {
     "data": {
      "text/plain": [
       "1228089600.0"
      ]
     },
     "execution_count": 6,
     "metadata": {},
     "output_type": "execute_result"
    }
   ],
   "source": [
    "t_start = min\n",
    "t_end = datetime.datetime(2008, 12, 1, 0, 0)\n",
    "t_end = time.mktime(t_end.timetuple())\n",
    "t_end"
   ]
  },
  {
   "cell_type": "code",
   "execution_count": 39,
   "metadata": {},
   "outputs": [],
   "source": [
    "G = nx.DiGraph()"
   ]
  },
  {
   "cell_type": "code",
   "execution_count": 40,
   "metadata": {},
   "outputs": [
    {
     "data": {
      "text/plain": [
       "OutEdgeDataView([])"
      ]
     },
     "execution_count": 40,
     "metadata": {},
     "output_type": "execute_result"
    }
   ],
   "source": [
    "G.edges(data=True)"
   ]
  },
  {
   "cell_type": "code",
   "execution_count": 41,
   "metadata": {},
   "outputs": [],
   "source": [
    "def createWeightedGraph(G, data, t_start, t_end):\n",
    "    for index, line in data.iterrows():\n",
    "        t = line['t']\n",
    "        if t_start <= t < t_end :\n",
    "            print(line['u'], line['v'])\n",
    "            if G.has_edge(line['u'], line['v']) :\n",
    "                print(G.edges(data=True))\n",
    "                G[line['u']][line['v']]['weight'] += 1\n",
    "                G[line['u']][line['v']]['timestamp'].append(line['t'])\n",
    "            else :\n",
    "                print(G.edges(data=True))\n",
    "                G.add_edge(line['u'], line['v'], weight=1)\n",
    "                G[line['u']][line['v']]['timestamp']=[line['t']]\n"
   ]
  },
  {
   "cell_type": "code",
   "execution_count": null,
   "metadata": {},
   "outputs": [],
   "source": [
    "createWeightedGraph(G, a2q, t_start, t_end)\n",
    "createWeightedGraph(G, c2a, t_start, t_end)\n",
    "createWeightedGraph(G, c2q, t_start, t_end)"
   ]
  },
  {
   "cell_type": "code",
   "execution_count": null,
   "metadata": {},
   "outputs": [],
   "source": [
    "#G.edges(data=True)"
   ]
  },
  {
   "cell_type": "code",
   "execution_count": null,
   "metadata": {},
   "outputs": [],
   "source": [
    "#plt.clf()\n",
    "#nx.draw(G)#, with_labels=True, with_weights = True)\n",
    "#plt.show()"
   ]
  },
  {
   "cell_type": "markdown",
   "metadata": {},
   "source": [
    "# Exercise 2"
   ]
  },
  {
   "cell_type": "markdown",
   "metadata": {},
   "source": [
    "### Functionality 1 - Get the overall features of the graph\n"
   ]
  },
  {
   "cell_type": "code",
   "execution_count": 24,
   "metadata": {},
   "outputs": [],
   "source": [
    "def F1_OverallFeatures(Graph):\n",
    "\n",
    "    unique_nodes=set([])\n",
    "    total_interactions=0\n",
    "    average_interactions=0\n",
    "    undirected=\"True\"\n",
    "    graph_density=0\n",
    "    \n",
    "    for u,v,attr in (G.edges(data=True)):\n",
    "        print(u,v,attr)\n",
    "        "
   ]
  },
  {
   "cell_type": "code",
   "execution_count": 22,
   "metadata": {},
   "outputs": [
    {
     "name": "stderr",
     "output_type": "stream",
     "text": [
      "\n",
      "\n",
      "135236it [00:38, 6715.11it/s]\u001b[A\u001b[A"
     ]
    }
   ],
   "source": [
    "graphF1 = nx.DiGraph()\n",
    "createWeightedGraph(graphF1, a2q, t_start, t_end)"
   ]
  },
  {
   "cell_type": "code",
   "execution_count": 25,
   "metadata": {},
   "outputs": [
    {
     "name": "stdout",
     "output_type": "stream",
     "text": [
      "A B {}\n",
      "A C {}\n",
      "B H {}\n",
      "B G {}\n",
      "B F {}\n",
      "C G {}\n",
      "D B {}\n",
      "E C {}\n",
      "E F {}\n"
     ]
    }
   ],
   "source": [
    "F1_OverallFeatures(graphF1)"
   ]
  },
  {
   "cell_type": "code",
   "execution_count": null,
   "metadata": {},
   "outputs": [],
   "source": []
  },
  {
   "cell_type": "code",
   "execution_count": null,
   "metadata": {},
   "outputs": [],
   "source": []
  }
 ],
 "metadata": {
  "instance_type": "ml.t3.medium",
  "kernelspec": {
   "display_name": "Python 3 (Data Science)",
   "language": "python",
   "name": "python3__SAGEMAKER_INTERNAL__arn:aws:sagemaker:us-east-1:081325390199:image/datascience-1.0"
  },
  "language_info": {
   "codemirror_mode": {
    "name": "ipython",
    "version": 3
   },
   "file_extension": ".py",
   "mimetype": "text/x-python",
   "name": "python",
   "nbconvert_exporter": "python",
   "pygments_lexer": "ipython3",
   "version": "3.7.10"
  }
 },
 "nbformat": 4,
 "nbformat_minor": 4
}
